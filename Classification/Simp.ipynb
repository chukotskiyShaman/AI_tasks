{
 "cells": [
  {
   "cell_type": "code",
   "execution_count": 16,
   "id": "65915b9e-9975-4735-a2fb-efff2f4e1047",
   "metadata": {},
   "outputs": [
    {
     "name": "stdout",
     "output_type": "stream",
     "text": [
      "Defaulting to user installation because normal site-packages is not writeable\n",
      "Requirement already satisfied: scikit-learn in /home/sergei/.local/lib/python3.10/site-packages (1.3.2)\n",
      "Requirement already satisfied: numpy<2.0,>=1.17.3 in /home/sergei/.local/lib/python3.10/site-packages (from scikit-learn) (1.26.2)\n",
      "Requirement already satisfied: joblib>=1.1.1 in /home/sergei/.local/lib/python3.10/site-packages (from scikit-learn) (1.3.2)\n",
      "Requirement already satisfied: scipy>=1.5.0 in /usr/lib/python3/dist-packages (from scikit-learn) (1.8.0)\n",
      "Requirement already satisfied: threadpoolctl>=2.0.0 in /home/sergei/.local/lib/python3.10/site-packages (from scikit-learn) (3.2.0)\n"
     ]
    }
   ],
   "source": [
    "!pip install scikit-learn"
   ]
  },
  {
   "cell_type": "code",
   "execution_count": 17,
   "id": "c553d41d-0046-4506-a2c8-c4686eb13df7",
   "metadata": {},
   "outputs": [
    {
     "name": "stdout",
     "output_type": "stream",
     "text": [
      "Defaulting to user installation because normal site-packages is not writeable\n",
      "Collecting caer\n",
      "  Downloading caer-2.0.8-py3-none-any.whl (809 kB)\n",
      "\u001b[2K     \u001b[38;2;114;156;31m━━━━━━━━━━━━━━━━━━━━━━━━━━━━━━━━━━━━━\u001b[0m \u001b[32m809.5/809.5 KB\u001b[0m \u001b[31m297.9 kB/s\u001b[0m eta \u001b[36m0:00:00\u001b[0m[36m0:00:01\u001b[0mm eta \u001b[36m0:00:01\u001b[0m\n",
      "\u001b[?25hCollecting mypy\n",
      "  Downloading mypy-1.8.0-cp310-cp310-manylinux_2_17_x86_64.manylinux2014_x86_64.whl (12.5 MB)\n",
      "\u001b[2K     \u001b[38;2;114;156;31m━━━━━━━━━━━━━━━━━━━━━━━━━━━━━━━━━━━━━━━\u001b[0m \u001b[32m12.5/12.5 MB\u001b[0m \u001b[31m677.3 kB/s\u001b[0m eta \u001b[36m0:00:00\u001b[0mm eta \u001b[36m0:00:01\u001b[0m[36m0:00:01\u001b[0m\n",
      "\u001b[?25hRequirement already satisfied: numpy in /home/sergei/.local/lib/python3.10/site-packages (from caer) (1.26.2)\n",
      "Requirement already satisfied: typing-extensions in /home/sergei/.local/lib/python3.10/site-packages (from caer) (4.8.0)\n",
      "Collecting opencv-contrib-python\n",
      "  Downloading opencv_contrib_python-4.9.0.80-cp37-abi3-manylinux_2_17_x86_64.manylinux2014_x86_64.whl (68.3 MB)\n",
      "\u001b[2K     \u001b[38;2;114;156;31m━━━━━━━━━━━━━━━━━━━━━━━━━━━━━━━━━━━━━━━\u001b[0m \u001b[32m68.3/68.3 MB\u001b[0m \u001b[31m730.8 kB/s\u001b[0m eta \u001b[36m0:00:00\u001b[0mm eta \u001b[36m0:00:01\u001b[0m[36m0:00:03\u001b[0m\n",
      "\u001b[?25hCollecting mypy-extensions>=1.0.0\n",
      "  Downloading mypy_extensions-1.0.0-py3-none-any.whl (4.7 kB)\n",
      "Requirement already satisfied: tomli>=1.1.0 in /home/sergei/.local/lib/python3.10/site-packages (from mypy->caer) (2.0.1)\n",
      "Installing collected packages: opencv-contrib-python, mypy-extensions, mypy, caer\n",
      "Successfully installed caer-2.0.8 mypy-1.8.0 mypy-extensions-1.0.0 opencv-contrib-python-4.9.0.80\n",
      "Note: you may need to restart the kernel to use updated packages.\n"
     ]
    }
   ],
   "source": [
    "pip install caer"
   ]
  },
  {
   "cell_type": "code",
   "execution_count": 18,
   "id": "f6682898-ae89-4d0e-be1d-41d9bb42d218",
   "metadata": {},
   "outputs": [
    {
     "name": "stdout",
     "output_type": "stream",
     "text": [
      "Defaulting to user installation because normal site-packages is not writeable\n",
      "Requirement already satisfied: caer in /home/sergei/.local/lib/python3.10/site-packages (2.0.8)\n",
      "Collecting canaro\n",
      "  Downloading canaro-1.1.0-py3-none-any.whl (19 kB)\n",
      "Requirement already satisfied: opencv-contrib-python in /home/sergei/.local/lib/python3.10/site-packages (from caer) (4.9.0.80)\n",
      "Requirement already satisfied: numpy in /home/sergei/.local/lib/python3.10/site-packages (from caer) (1.26.2)\n",
      "Requirement already satisfied: typing-extensions in /home/sergei/.local/lib/python3.10/site-packages (from caer) (4.8.0)\n",
      "Requirement already satisfied: mypy in /home/sergei/.local/lib/python3.10/site-packages (from caer) (1.8.0)\n",
      "Requirement already satisfied: tensorflow in /home/sergei/.local/lib/python3.10/site-packages (from canaro) (2.15.0.post1)\n",
      "Requirement already satisfied: tomli>=1.1.0 in /home/sergei/.local/lib/python3.10/site-packages (from mypy->caer) (2.0.1)\n",
      "Requirement already satisfied: mypy-extensions>=1.0.0 in /home/sergei/.local/lib/python3.10/site-packages (from mypy->caer) (1.0.0)\n",
      "Requirement already satisfied: protobuf!=4.21.0,!=4.21.1,!=4.21.2,!=4.21.3,!=4.21.4,!=4.21.5,<5.0.0dev,>=3.20.3 in /home/sergei/.local/lib/python3.10/site-packages (from tensorflow->canaro) (4.23.4)\n",
      "Requirement already satisfied: tensorboard<2.16,>=2.15 in /home/sergei/.local/lib/python3.10/site-packages (from tensorflow->canaro) (2.15.1)\n",
      "Requirement already satisfied: flatbuffers>=23.5.26 in /home/sergei/.local/lib/python3.10/site-packages (from tensorflow->canaro) (23.5.26)\n",
      "Requirement already satisfied: grpcio<2.0,>=1.24.3 in /home/sergei/.local/lib/python3.10/site-packages (from tensorflow->canaro) (1.60.1)\n",
      "Requirement already satisfied: termcolor>=1.1.0 in /home/sergei/.local/lib/python3.10/site-packages (from tensorflow->canaro) (2.4.0)\n",
      "Requirement already satisfied: google-pasta>=0.1.1 in /home/sergei/.local/lib/python3.10/site-packages (from tensorflow->canaro) (0.2.0)\n",
      "Requirement already satisfied: tensorflow-estimator<2.16,>=2.15.0 in /home/sergei/.local/lib/python3.10/site-packages (from tensorflow->canaro) (2.15.0)\n",
      "Requirement already satisfied: setuptools in /usr/lib/python3/dist-packages (from tensorflow->canaro) (59.6.0)\n",
      "Requirement already satisfied: gast!=0.5.0,!=0.5.1,!=0.5.2,>=0.2.1 in /home/sergei/.local/lib/python3.10/site-packages (from tensorflow->canaro) (0.5.4)\n",
      "Requirement already satisfied: h5py>=2.9.0 in /home/sergei/.local/lib/python3.10/site-packages (from tensorflow->canaro) (3.10.0)\n",
      "Requirement already satisfied: libclang>=13.0.0 in /home/sergei/.local/lib/python3.10/site-packages (from tensorflow->canaro) (16.0.6)\n",
      "Requirement already satisfied: packaging in /usr/lib/python3/dist-packages (from tensorflow->canaro) (21.3)\n",
      "Requirement already satisfied: astunparse>=1.6.0 in /home/sergei/.local/lib/python3.10/site-packages (from tensorflow->canaro) (1.6.3)\n",
      "Requirement already satisfied: six>=1.12.0 in /usr/lib/python3/dist-packages (from tensorflow->canaro) (1.16.0)\n",
      "Requirement already satisfied: keras<2.16,>=2.15.0 in /home/sergei/.local/lib/python3.10/site-packages (from tensorflow->canaro) (2.15.0)\n",
      "Requirement already satisfied: opt-einsum>=2.3.2 in /home/sergei/.local/lib/python3.10/site-packages (from tensorflow->canaro) (3.3.0)\n",
      "Requirement already satisfied: absl-py>=1.0.0 in /home/sergei/.local/lib/python3.10/site-packages (from tensorflow->canaro) (2.1.0)\n",
      "Requirement already satisfied: wrapt<1.15,>=1.11.0 in /home/sergei/.local/lib/python3.10/site-packages (from tensorflow->canaro) (1.14.1)\n",
      "Requirement already satisfied: tensorflow-io-gcs-filesystem>=0.23.1 in /home/sergei/.local/lib/python3.10/site-packages (from tensorflow->canaro) (0.36.0)\n",
      "Requirement already satisfied: ml-dtypes~=0.2.0 in /home/sergei/.local/lib/python3.10/site-packages (from tensorflow->canaro) (0.2.0)\n",
      "Requirement already satisfied: wheel<1.0,>=0.23.0 in /usr/lib/python3/dist-packages (from astunparse>=1.6.0->tensorflow->canaro) (0.37.1)\n",
      "Requirement already satisfied: google-auth-oauthlib<2,>=0.5 in /home/sergei/.local/lib/python3.10/site-packages (from tensorboard<2.16,>=2.15->tensorflow->canaro) (1.2.0)\n",
      "Requirement already satisfied: werkzeug>=1.0.1 in /home/sergei/.local/lib/python3.10/site-packages (from tensorboard<2.16,>=2.15->tensorflow->canaro) (3.0.1)\n",
      "Requirement already satisfied: requests<3,>=2.21.0 in /home/sergei/.local/lib/python3.10/site-packages (from tensorboard<2.16,>=2.15->tensorflow->canaro) (2.31.0)\n",
      "Requirement already satisfied: markdown>=2.6.8 in /home/sergei/.local/lib/python3.10/site-packages (from tensorboard<2.16,>=2.15->tensorflow->canaro) (3.5.2)\n",
      "Requirement already satisfied: tensorboard-data-server<0.8.0,>=0.7.0 in /home/sergei/.local/lib/python3.10/site-packages (from tensorboard<2.16,>=2.15->tensorflow->canaro) (0.7.2)\n",
      "Requirement already satisfied: google-auth<3,>=1.6.3 in /home/sergei/.local/lib/python3.10/site-packages (from tensorboard<2.16,>=2.15->tensorflow->canaro) (2.27.0)\n",
      "Requirement already satisfied: rsa<5,>=3.1.4 in /home/sergei/.local/lib/python3.10/site-packages (from google-auth<3,>=1.6.3->tensorboard<2.16,>=2.15->tensorflow->canaro) (4.9)\n",
      "Requirement already satisfied: pyasn1-modules>=0.2.1 in /home/sergei/.local/lib/python3.10/site-packages (from google-auth<3,>=1.6.3->tensorboard<2.16,>=2.15->tensorflow->canaro) (0.3.0)\n",
      "Requirement already satisfied: cachetools<6.0,>=2.0.0 in /home/sergei/.local/lib/python3.10/site-packages (from google-auth<3,>=1.6.3->tensorboard<2.16,>=2.15->tensorflow->canaro) (5.3.2)\n",
      "Requirement already satisfied: requests-oauthlib>=0.7.0 in /home/sergei/.local/lib/python3.10/site-packages (from google-auth-oauthlib<2,>=0.5->tensorboard<2.16,>=2.15->tensorflow->canaro) (1.3.1)\n",
      "Requirement already satisfied: charset-normalizer<4,>=2 in /home/sergei/.local/lib/python3.10/site-packages (from requests<3,>=2.21.0->tensorboard<2.16,>=2.15->tensorflow->canaro) (3.3.2)\n",
      "Requirement already satisfied: idna<4,>=2.5 in /usr/lib/python3/dist-packages (from requests<3,>=2.21.0->tensorboard<2.16,>=2.15->tensorflow->canaro) (3.3)\n",
      "Requirement already satisfied: certifi>=2017.4.17 in /usr/lib/python3/dist-packages (from requests<3,>=2.21.0->tensorboard<2.16,>=2.15->tensorflow->canaro) (2020.6.20)\n",
      "Requirement already satisfied: urllib3<3,>=1.21.1 in /usr/lib/python3/dist-packages (from requests<3,>=2.21.0->tensorboard<2.16,>=2.15->tensorflow->canaro) (1.26.5)\n",
      "Requirement already satisfied: MarkupSafe>=2.1.1 in /home/sergei/.local/lib/python3.10/site-packages (from werkzeug>=1.0.1->tensorboard<2.16,>=2.15->tensorflow->canaro) (2.1.5)\n",
      "Requirement already satisfied: pyasn1<0.6.0,>=0.4.6 in /home/sergei/.local/lib/python3.10/site-packages (from pyasn1-modules>=0.2.1->google-auth<3,>=1.6.3->tensorboard<2.16,>=2.15->tensorflow->canaro) (0.5.1)\n",
      "Requirement already satisfied: oauthlib>=3.0.0 in /usr/lib/python3/dist-packages (from requests-oauthlib>=0.7.0->google-auth-oauthlib<2,>=0.5->tensorboard<2.16,>=2.15->tensorflow->canaro) (3.2.0)\n",
      "Installing collected packages: canaro\n",
      "Successfully installed canaro-1.1.0\n"
     ]
    }
   ],
   "source": [
    "!pip install caer canaro"
   ]
  },
  {
   "cell_type": "code",
   "execution_count": 81,
   "id": "0bfe9aaa-9941-4c3c-ab09-e21ae3daa56e",
   "metadata": {},
   "outputs": [],
   "source": [
    "import matplotlib.pyplot as plt\n",
    "import os\n",
    "import gc\n",
    "\n",
    "import cv2 as cv\n",
    "import caer\n",
    "import canaro\n",
    "import pandas as pd\n",
    "import numpy as np\n",
    "import tensorflow as tf\n",
    "from sklearn.preprocessing import StandardScaler\n",
    "from tensorflow.keras.models import Sequential\n",
    "from tensorflow.keras.layers import Conv2D, MaxPooling2D, Flatten, Dense\n",
    "from tensorflow.keras.callbacks import LearningRateScheduler\n",
    "from tensorflow.keras.utils import to_categorical\n",
    "from tensorflow.keras.preprocessing.image import ImageDataGenerator\n",
    "from tensorflow.keras.optimizers import SGD"
   ]
  },
  {
   "cell_type": "code",
   "execution_count": 27,
   "id": "1be76c78-893e-4e1d-8c30-54d5560413de",
   "metadata": {},
   "outputs": [],
   "source": [
    "img_size=(180,180)\n",
    "channels = 1\n",
    "char_path= 'Data/simpsons_dataset'"
   ]
  },
  {
   "cell_type": "code",
   "execution_count": 28,
   "id": "ea0c9470-4fec-44f7-acf6-8677a0f2f783",
   "metadata": {},
   "outputs": [
    {
     "data": {
      "text/plain": [
       "[('homer_simpson', 2246),\n",
       " ('ned_flanders', 1454),\n",
       " ('moe_szyslak', 1452),\n",
       " ('lisa_simpson', 1354),\n",
       " ('bart_simpson', 1342),\n",
       " ('marge_simpson', 1291),\n",
       " ('krusty_the_clown', 1206),\n",
       " ('principal_skinner', 1194),\n",
       " ('charles_montgomery_burns', 1193),\n",
       " ('milhouse_van_houten', 1079),\n",
       " ('chief_wiggum', 986),\n",
       " ('abraham_grampa_simpson', 913),\n",
       " ('sideshow_bob', 877),\n",
       " ('apu_nahasapeemapetilon', 623),\n",
       " ('kent_brockman', 498),\n",
       " ('comic_book_guy', 469),\n",
       " ('edna_krabappel', 457),\n",
       " ('nelson_muntz', 358),\n",
       " ('lenny_leonard', 310),\n",
       " ('mayor_quimby', 246),\n",
       " ('waylon_smithers', 181),\n",
       " ('maggie_simpson', 128),\n",
       " ('groundskeeper_willie', 121),\n",
       " ('barney_gumble', 106),\n",
       " ('selma_bouvier', 103),\n",
       " ('carl_carlson', 98),\n",
       " ('ralph_wiggum', 89),\n",
       " ('patty_bouvier', 72),\n",
       " ('martin_prince', 71),\n",
       " ('professor_john_frink', 65),\n",
       " ('snake_jailbird', 55),\n",
       " ('cletus_spuckler', 47),\n",
       " ('rainier_wolfcastle', 45),\n",
       " ('simpsons_dataset', 42),\n",
       " ('agnes_skinner', 42),\n",
       " ('sideshow_mel', 40),\n",
       " ('otto_mann', 32),\n",
       " ('gil', 27),\n",
       " ('fat_tony', 27),\n",
       " ('miss_hoover', 17),\n",
       " ('disco_stu', 8),\n",
       " ('troy_mcclure', 8),\n",
       " ('lionel_hutz', 3)]"
      ]
     },
     "execution_count": 28,
     "metadata": {},
     "output_type": "execute_result"
    }
   ],
   "source": [
    "char_dict={}\n",
    "for char in os.listdir(char_path):\n",
    "    char_dict[char]=len(os.listdir(os.path.join(char_path,char)))\n",
    "char_dict = caer.sort_dict(char_dict, descending=True)\n",
    "char_dict"
   ]
  },
  {
   "cell_type": "code",
   "execution_count": 31,
   "id": "c544d410-9768-4db8-afbf-c6aa2090c1ff",
   "metadata": {},
   "outputs": [
    {
     "data": {
      "text/plain": [
       "['homer_simpson', 'ned_flanders', 'moe_szyslak']"
      ]
     },
     "execution_count": 31,
     "metadata": {},
     "output_type": "execute_result"
    }
   ],
   "source": [
    "chars = []\n",
    "cnt=0\n",
    "for i in char_dict:\n",
    "    chars.append(i[0])\n",
    "    cnt+=1\n",
    "    if cnt>=3:\n",
    "        break\n",
    "chars"
   ]
  },
  {
   "cell_type": "code",
   "execution_count": 32,
   "id": "3f977c9c-e1b9-4c1f-8a0d-e5600e18c752",
   "metadata": {},
   "outputs": [
    {
     "name": "stdout",
     "output_type": "stream",
     "text": [
      "[INFO] Could not find a file to load from. Generating the training data\n",
      "----------------------------------------------\n",
      "[INFO] At 1000 files\n",
      "[INFO] At 2000 files\n",
      "[INFO] 2246 files found in 0.00845789909362793s\n",
      "[INFO] At 1000 files\n",
      "[INFO] 1454 files found in 0.0031936168670654297s\n",
      "[INFO] At 1000 files\n",
      "[INFO] 1452 files found in 0.003599882125854492s\n",
      "----------------------------------------------\n",
      "[INFO] 5152 files preprocessed! Took 0m 10s\n"
     ]
    }
   ],
   "source": [
    "#Создание тренировочных данных\n",
    "train=caer.preprocess_from_dir(char_path, chars, channels=channels, IMG_SIZE=img_size, isShuffle=True)"
   ]
  },
  {
   "cell_type": "code",
   "execution_count": 33,
   "id": "ae317447-147a-4e8f-a19e-7f8702fe3750",
   "metadata": {},
   "outputs": [],
   "source": [
    "# len(train)"
   ]
  },
  {
   "cell_type": "code",
   "execution_count": 34,
   "id": "12aafcec-84fe-49ee-9bd2-0cc2166ab86d",
   "metadata": {},
   "outputs": [],
   "source": [
    "# plt.figure(figsize=(1,1))\n",
    "# plt.imshow(train[0][0], cmap='gray')\n",
    "# plt.show"
   ]
  },
  {
   "cell_type": "code",
   "execution_count": 35,
   "id": "ce07448d-0713-4e1b-ba3c-3b05fc4602fd",
   "metadata": {},
   "outputs": [],
   "source": [
    "featureSet, labels = caer.sep_train(train, IMG_SIZE=img_size)"
   ]
  },
  {
   "cell_type": "code",
   "execution_count": 36,
   "id": "209caacc-847c-43ee-a0f0-4704aaf48bf5",
   "metadata": {},
   "outputs": [],
   "source": [
    "featureSet = caer.normalize(featureSet)\n",
    "labels = to_categorical(labels, len(chars))"
   ]
  },
  {
   "cell_type": "code",
   "execution_count": 41,
   "id": "06860787-710e-4ffc-bd02-cbb6f5f8ef97",
   "metadata": {},
   "outputs": [],
   "source": [
    "x_train, x_val, y_train, y_val = caer.train_val_split(featureSet, labels, val_ratio=1)\n",
    "# x_train.shape\n",
    "# y_train.shape"
   ]
  },
  {
   "cell_type": "code",
   "execution_count": 69,
   "id": "da991373-f22b-4eb1-ab8c-cb46757560c5",
   "metadata": {},
   "outputs": [
    {
     "name": "stdout",
     "output_type": "stream",
     "text": [
      "Model: \"sequential_4\"\n",
      "_________________________________________________________________\n",
      " Layer (type)                Output Shape              Param #   \n",
      "=================================================================\n",
      " conv2d_8 (Conv2D)           (None, 178, 178, 64)      640       \n",
      "                                                                 \n",
      " max_pooling2d_8 (MaxPoolin  (None, 89, 89, 64)        0         \n",
      " g2D)                                                            \n",
      "                                                                 \n",
      " conv2d_9 (Conv2D)           (None, 87, 87, 64)        36928     \n",
      "                                                                 \n",
      " max_pooling2d_9 (MaxPoolin  (None, 43, 43, 64)        0         \n",
      " g2D)                                                            \n",
      "                                                                 \n",
      " flatten_4 (Flatten)         (None, 118336)            0         \n",
      "                                                                 \n",
      " dense_6 (Dense)             (None, 64)                7573568   \n",
      "                                                                 \n",
      " dense_7 (Dense)             (None, 3)                 195       \n",
      "                                                                 \n",
      "=================================================================\n",
      "Total params: 7611331 (29.03 MB)\n",
      "Trainable params: 7611331 (29.03 MB)\n",
      "Non-trainable params: 0 (0.00 Byte)\n",
      "_________________________________________________________________\n"
     ]
    }
   ],
   "source": [
    "# Создаем модель нейронной сети\n",
    "model = Sequential()\n",
    "\n",
    "# Добавляем сверточный слой\n",
    "model.add(Conv2D(64, (3, 3), activation='relu', input_shape=(180, 180, 1)))\n",
    "\n",
    "# Добавляем слой подвыборки\n",
    "model.add(MaxPooling2D(pool_size=(2, 2), strides=(2,2)))\n",
    "\n",
    "# Добавляем второй сверточный слой\n",
    "model.add(Conv2D(64, (3, 3), activation='relu'))\n",
    "\n",
    "# Добавляем второй слой подвыборки\n",
    "model.add(MaxPooling2D(pool_size=(2, 2), strides=(2,2)))\n",
    "\n",
    "# Преобразуем двумерные данные в одномерные\n",
    "model.add(Flatten())\n",
    "\n",
    "# Добавляем полносвязный слой\n",
    "model.add(Dense(64, activation='relu'))\n",
    "\n",
    "# Добавляем выходной слой\n",
    "model.add(Dense(3, activation='softmax'))\n",
    "\n",
    "optimizer = tf.keras.optimizers.legacy.SGD(learning_rate=0.00001, decay=1e-7, momentum=0.7, nesterov=True)\n",
    "\n",
    "# Компилируем модель\n",
    "model.compile(optimizer, loss='binary_crossentropy', metrics=['accuracy'])\n",
    "# model.compile(optimizer='adam', loss='categorical_crossentropy', metrics=['accuracy'])\n",
    "model.summary()"
   ]
  },
  {
   "cell_type": "code",
   "execution_count": 54,
   "id": "7373550a-c3aa-472d-8eee-d5fd10c21d36",
   "metadata": {},
   "outputs": [
    {
     "ename": "NameError",
     "evalue": "name 'train' is not defined",
     "output_type": "error",
     "traceback": [
      "\u001b[0;31m---------------------------------------------------------------------------\u001b[0m",
      "\u001b[0;31mNameError\u001b[0m                                 Traceback (most recent call last)",
      "Cell \u001b[0;32mIn[54], line 1\u001b[0m\n\u001b[0;32m----> 1\u001b[0m \u001b[38;5;28;01mdel\u001b[39;00m train\n\u001b[1;32m      2\u001b[0m \u001b[38;5;28;01mdel\u001b[39;00m featureSet\n\u001b[1;32m      3\u001b[0m \u001b[38;5;28;01mdel\u001b[39;00m labels\n",
      "\u001b[0;31mNameError\u001b[0m: name 'train' is not defined"
     ]
    }
   ],
   "source": [
    "del train\n",
    "del featureSet\n",
    "del labels\n",
    "gc.collect()"
   ]
  },
  {
   "cell_type": "code",
   "execution_count": 70,
   "id": "f9d5332f-397c-4e4e-a44a-aabca5bfcc51",
   "metadata": {},
   "outputs": [],
   "source": [
    "BATCH_SIZE=10\n",
    "EPOCHS=25"
   ]
  },
  {
   "cell_type": "code",
   "execution_count": 71,
   "id": "7213a815-d145-4c5c-af1e-bbbae9896b06",
   "metadata": {},
   "outputs": [],
   "source": [
    "datagen = ImageDataGenerator(rotation_range=30, width_shift_range=0.1, height_shift_range=0.1\n",
    "                             , zoom_range=0.2)\n",
    "train_gen = datagen.flow(x_train, y_train, batch_size=BATCH_SIZE)"
   ]
  },
  {
   "cell_type": "code",
   "execution_count": 72,
   "id": "5a570b67-fa10-4ce2-98cf-e4bc76afe331",
   "metadata": {},
   "outputs": [],
   "source": [
    "callbacks_list=[LearningRateScheduler(canaro.lr_schedule)]"
   ]
  },
  {
   "cell_type": "code",
   "execution_count": 73,
   "id": "7421fa01-9e0a-4e1c-935d-36e871370cd4",
   "metadata": {},
   "outputs": [
    {
     "data": {
      "text/plain": [
       "0"
      ]
     },
     "execution_count": 73,
     "metadata": {},
     "output_type": "execute_result"
    }
   ],
   "source": [
    "# optimizer = tf.keras.optimizers.legacy.SGD(learning_rate=0.00001, decay=1e-7, momentum=0.7, nesterov=True)\n",
    "# len(x_train)//10\n",
    "len(y_val)//10"
   ]
  },
  {
   "cell_type": "code",
   "execution_count": 75,
   "id": "a88c5a33-442f-430a-9b94-54bc7b769dbf",
   "metadata": {},
   "outputs": [
    {
     "name": "stdout",
     "output_type": "stream",
     "text": [
      "Epoch 1/25\n",
      "64/64 [==============================] - ETA: 0s - loss: 0.6293 - accuracy: 0.4000WARNING:tensorflow:Your input ran out of data; interrupting training. Make sure that your dataset or generator can generate at least `steps_per_epoch * epochs` batches (in this case, 8 batches). You may need to use the repeat() function when building your dataset.\n",
      "64/64 [==============================] - 13s 199ms/step - loss: 0.6293 - accuracy: 0.4000 - val_loss: 0.6916 - val_accuracy: 0.0000e+00 - lr: 0.0100\n",
      "Epoch 2/25\n",
      "64/64 [==============================] - 13s 195ms/step - loss: 0.6144 - accuracy: 0.4359 - lr: 0.0100\n",
      "Epoch 3/25\n",
      "64/64 [==============================] - 12s 194ms/step - loss: 0.6187 - accuracy: 0.4141 - lr: 0.0100\n",
      "Epoch 4/25\n",
      "64/64 [==============================] - 13s 207ms/step - loss: 0.5809 - accuracy: 0.5109 - lr: 0.0100\n",
      "Epoch 5/25\n",
      "64/64 [==============================] - 13s 204ms/step - loss: 0.5662 - accuracy: 0.5359 - lr: 0.0100\n",
      "Epoch 6/25\n",
      "64/64 [==============================] - 13s 199ms/step - loss: 0.5852 - accuracy: 0.5078 - lr: 0.0100\n",
      "Epoch 7/25\n",
      "64/64 [==============================] - 12s 194ms/step - loss: 0.5622 - accuracy: 0.5344 - lr: 0.0100\n",
      "Epoch 8/25\n",
      "64/64 [==============================] - 13s 196ms/step - loss: 0.5599 - accuracy: 0.5484 - lr: 0.0100\n",
      "Epoch 9/25\n",
      "64/64 [==============================] - 14s 211ms/step - loss: 0.5798 - accuracy: 0.5674 - lr: 0.0100\n",
      "Epoch 10/25\n",
      "64/64 [==============================] - 13s 208ms/step - loss: 0.5624 - accuracy: 0.5437 - lr: 0.0100\n",
      "Epoch 11/25\n",
      "64/64 [==============================] - 13s 203ms/step - loss: 0.5474 - accuracy: 0.5672 - lr: 0.0010\n",
      "Epoch 12/25\n",
      "64/64 [==============================] - 13s 197ms/step - loss: 0.5390 - accuracy: 0.5813 - lr: 0.0010\n",
      "Epoch 13/25\n",
      "64/64 [==============================] - 12s 193ms/step - loss: 0.5556 - accuracy: 0.5515 - lr: 0.0010\n",
      "Epoch 14/25\n",
      "64/64 [==============================] - 13s 202ms/step - loss: 0.5391 - accuracy: 0.5750 - lr: 0.0010\n",
      "Epoch 15/25\n",
      "64/64 [==============================] - 13s 196ms/step - loss: 0.5320 - accuracy: 0.5813 - lr: 0.0010\n",
      "Epoch 16/25\n",
      "64/64 [==============================] - 13s 202ms/step - loss: 0.5278 - accuracy: 0.6094 - lr: 0.0010\n",
      "Epoch 17/25\n",
      "64/64 [==============================] - 13s 196ms/step - loss: 0.5172 - accuracy: 0.6016 - lr: 0.0010\n",
      "Epoch 18/25\n",
      "64/64 [==============================] - 13s 196ms/step - loss: 0.5368 - accuracy: 0.5703 - lr: 0.0010\n",
      "Epoch 19/25\n",
      "64/64 [==============================] - 12s 193ms/step - loss: 0.5449 - accuracy: 0.5658 - lr: 0.0010\n",
      "Epoch 20/25\n",
      "64/64 [==============================] - 12s 193ms/step - loss: 0.5442 - accuracy: 0.5975 - lr: 0.0010\n",
      "Epoch 21/25\n",
      "64/64 [==============================] - 12s 194ms/step - loss: 0.5580 - accuracy: 0.5359 - lr: 1.0000e-04\n",
      "Epoch 22/25\n",
      "64/64 [==============================] - 13s 196ms/step - loss: 0.5450 - accuracy: 0.5703 - lr: 1.0000e-04\n",
      "Epoch 23/25\n",
      "64/64 [==============================] - 13s 195ms/step - loss: 0.5505 - accuracy: 0.5594 - lr: 1.0000e-04\n",
      "Epoch 24/25\n",
      "64/64 [==============================] - 13s 197ms/step - loss: 0.5421 - accuracy: 0.5641 - lr: 1.0000e-04\n",
      "Epoch 25/25\n",
      "64/64 [==============================] - 13s 196ms/step - loss: 0.5337 - accuracy: 0.5891 - lr: 1.0000e-04\n"
     ]
    }
   ],
   "source": [
    "training=model.fit(train_gen, steps_per_epoch=64, epochs=EPOCHS,\n",
    "                   validation_data=(x_val, y_val), validation_steps=8,\n",
    "                   callbacks=callbacks_list)"
   ]
  },
  {
   "cell_type": "code",
   "execution_count": 78,
   "id": "0e29b1e7-953c-45f1-859b-71e3f0bd0d17",
   "metadata": {},
   "outputs": [
    {
     "name": "stdout",
     "output_type": "stream",
     "text": [
      "1/1 [==============================] - 0s 224ms/step - loss: 0.3769 - accuracy: 1.0000\n"
     ]
    },
    {
     "data": {
      "text/plain": [
       "[0.37694883346557617, 1.0]"
      ]
     },
     "execution_count": 78,
     "metadata": {},
     "output_type": "execute_result"
    }
   ],
   "source": [
    "val_datagen = canaro.generators.imageDataGenerator()\n",
    "val_gen = val_datagen.flow(x_val, y_val, batch_size=BATCH_SIZE)\n",
    "model.evaluate(val_gen)"
   ]
  },
  {
   "cell_type": "code",
   "execution_count": 84,
   "id": "d2c7d5e2-43c5-4461-b506-49bce628af91",
   "metadata": {},
   "outputs": [],
   "source": [
    "img1 = cv.imread('Data/kaggle_simpson_testset/kaggle_simpson_testset/homer_simpson_30.jpg')\n",
    "def prepare(image, img_size):\n",
    "    image = cv.cvtColor(image, cv.COLOR_RGB2GRAY)\n",
    "    image = (image/10).astype('uint8')\n",
    "    image = cv.resize(image, img_size)\n",
    "    image = caer.reshape(image, img_size, 1)\n",
    "    return image"
   ]
  },
  {
   "cell_type": "code",
   "execution_count": 86,
   "id": "a9c5676d-0ce8-4bc0-87ea-a8ee32260cfb",
   "metadata": {},
   "outputs": [
    {
     "name": "stdout",
     "output_type": "stream",
     "text": [
      "1/1 [==============================] - 0s 306ms/step\n"
     ]
    }
   ],
   "source": [
    "img_size = (180,180)\n",
    "predictions = model.predict(prepare(img1, img_size))"
   ]
  },
  {
   "cell_type": "code",
   "execution_count": 87,
   "id": "42be4457-ff67-47fe-9a98-ec84af5e4a1e",
   "metadata": {},
   "outputs": [
    {
     "name": "stdout",
     "output_type": "stream",
     "text": [
      "homer_simpson\n"
     ]
    }
   ],
   "source": [
    "print(chars[np.argmax(predictions[0])])"
   ]
  },
  {
   "cell_type": "code",
   "execution_count": null,
   "id": "d3d63a35-3eac-4109-9114-19aa58f09e8c",
   "metadata": {},
   "outputs": [],
   "source": []
  }
 ],
 "metadata": {
  "kernelspec": {
   "display_name": "Python 3 (ipykernel)",
   "language": "python",
   "name": "python3"
  },
  "language_info": {
   "codemirror_mode": {
    "name": "ipython",
    "version": 3
   },
   "file_extension": ".py",
   "mimetype": "text/x-python",
   "name": "python",
   "nbconvert_exporter": "python",
   "pygments_lexer": "ipython3",
   "version": "3.10.6"
  }
 },
 "nbformat": 4,
 "nbformat_minor": 5
}
