{
 "cells": [
  {
   "cell_type": "code",
   "execution_count": 16,
   "id": "65915b9e-9975-4735-a2fb-efff2f4e1047",
   "metadata": {},
   "outputs": [
    {
     "name": "stdout",
     "output_type": "stream",
     "text": [
      "Defaulting to user installation because normal site-packages is not writeable\n",
      "Requirement already satisfied: scikit-learn in /home/sergei/.local/lib/python3.10/site-packages (1.3.2)\n",
      "Requirement already satisfied: numpy<2.0,>=1.17.3 in /home/sergei/.local/lib/python3.10/site-packages (from scikit-learn) (1.26.2)\n",
      "Requirement already satisfied: joblib>=1.1.1 in /home/sergei/.local/lib/python3.10/site-packages (from scikit-learn) (1.3.2)\n",
      "Requirement already satisfied: scipy>=1.5.0 in /usr/lib/python3/dist-packages (from scikit-learn) (1.8.0)\n",
      "Requirement already satisfied: threadpoolctl>=2.0.0 in /home/sergei/.local/lib/python3.10/site-packages (from scikit-learn) (3.2.0)\n"
     ]
    }
   ],
   "source": [
    "!pip install scikit-learn"
   ]
  },
  {
   "cell_type": "code",
   "execution_count": 17,
   "id": "c553d41d-0046-4506-a2c8-c4686eb13df7",
   "metadata": {},
   "outputs": [
    {
     "name": "stdout",
     "output_type": "stream",
     "text": [
      "Defaulting to user installation because normal site-packages is not writeable\n",
      "Collecting caer\n",
      "  Downloading caer-2.0.8-py3-none-any.whl (809 kB)\n",
      "\u001b[2K     \u001b[38;2;114;156;31m━━━━━━━━━━━━━━━━━━━━━━━━━━━━━━━━━━━━━\u001b[0m \u001b[32m809.5/809.5 KB\u001b[0m \u001b[31m297.9 kB/s\u001b[0m eta \u001b[36m0:00:00\u001b[0m[36m0:00:01\u001b[0mm eta \u001b[36m0:00:01\u001b[0m\n",
      "\u001b[?25hCollecting mypy\n",
      "  Downloading mypy-1.8.0-cp310-cp310-manylinux_2_17_x86_64.manylinux2014_x86_64.whl (12.5 MB)\n",
      "\u001b[2K     \u001b[38;2;114;156;31m━━━━━━━━━━━━━━━━━━━━━━━━━━━━━━━━━━━━━━━\u001b[0m \u001b[32m12.5/12.5 MB\u001b[0m \u001b[31m677.3 kB/s\u001b[0m eta \u001b[36m0:00:00\u001b[0mm eta \u001b[36m0:00:01\u001b[0m[36m0:00:01\u001b[0m\n",
      "\u001b[?25hRequirement already satisfied: numpy in /home/sergei/.local/lib/python3.10/site-packages (from caer) (1.26.2)\n",
      "Requirement already satisfied: typing-extensions in /home/sergei/.local/lib/python3.10/site-packages (from caer) (4.8.0)\n",
      "Collecting opencv-contrib-python\n",
      "  Downloading opencv_contrib_python-4.9.0.80-cp37-abi3-manylinux_2_17_x86_64.manylinux2014_x86_64.whl (68.3 MB)\n",
      "\u001b[2K     \u001b[38;2;114;156;31m━━━━━━━━━━━━━━━━━━━━━━━━━━━━━━━━━━━━━━━\u001b[0m \u001b[32m68.3/68.3 MB\u001b[0m \u001b[31m730.8 kB/s\u001b[0m eta \u001b[36m0:00:00\u001b[0mm eta \u001b[36m0:00:01\u001b[0m[36m0:00:03\u001b[0m\n",
      "\u001b[?25hCollecting mypy-extensions>=1.0.0\n",
      "  Downloading mypy_extensions-1.0.0-py3-none-any.whl (4.7 kB)\n",
      "Requirement already satisfied: tomli>=1.1.0 in /home/sergei/.local/lib/python3.10/site-packages (from mypy->caer) (2.0.1)\n",
      "Installing collected packages: opencv-contrib-python, mypy-extensions, mypy, caer\n",
      "Successfully installed caer-2.0.8 mypy-1.8.0 mypy-extensions-1.0.0 opencv-contrib-python-4.9.0.80\n",
      "Note: you may need to restart the kernel to use updated packages.\n"
     ]
    }
   ],
   "source": [
    "pip install caer"
   ]
  },
  {
   "cell_type": "code",
   "execution_count": 18,
   "id": "f6682898-ae89-4d0e-be1d-41d9bb42d218",
   "metadata": {},
   "outputs": [
    {
     "name": "stdout",
     "output_type": "stream",
     "text": [
      "Defaulting to user installation because normal site-packages is not writeable\n",
      "Requirement already satisfied: caer in /home/sergei/.local/lib/python3.10/site-packages (2.0.8)\n",
      "Collecting canaro\n",
      "  Downloading canaro-1.1.0-py3-none-any.whl (19 kB)\n",
      "Requirement already satisfied: opencv-contrib-python in /home/sergei/.local/lib/python3.10/site-packages (from caer) (4.9.0.80)\n",
      "Requirement already satisfied: numpy in /home/sergei/.local/lib/python3.10/site-packages (from caer) (1.26.2)\n",
      "Requirement already satisfied: typing-extensions in /home/sergei/.local/lib/python3.10/site-packages (from caer) (4.8.0)\n",
      "Requirement already satisfied: mypy in /home/sergei/.local/lib/python3.10/site-packages (from caer) (1.8.0)\n",
      "Requirement already satisfied: tensorflow in /home/sergei/.local/lib/python3.10/site-packages (from canaro) (2.15.0.post1)\n",
      "Requirement already satisfied: tomli>=1.1.0 in /home/sergei/.local/lib/python3.10/site-packages (from mypy->caer) (2.0.1)\n",
      "Requirement already satisfied: mypy-extensions>=1.0.0 in /home/sergei/.local/lib/python3.10/site-packages (from mypy->caer) (1.0.0)\n",
      "Requirement already satisfied: protobuf!=4.21.0,!=4.21.1,!=4.21.2,!=4.21.3,!=4.21.4,!=4.21.5,<5.0.0dev,>=3.20.3 in /home/sergei/.local/lib/python3.10/site-packages (from tensorflow->canaro) (4.23.4)\n",
      "Requirement already satisfied: tensorboard<2.16,>=2.15 in /home/sergei/.local/lib/python3.10/site-packages (from tensorflow->canaro) (2.15.1)\n",
      "Requirement already satisfied: flatbuffers>=23.5.26 in /home/sergei/.local/lib/python3.10/site-packages (from tensorflow->canaro) (23.5.26)\n",
      "Requirement already satisfied: grpcio<2.0,>=1.24.3 in /home/sergei/.local/lib/python3.10/site-packages (from tensorflow->canaro) (1.60.1)\n",
      "Requirement already satisfied: termcolor>=1.1.0 in /home/sergei/.local/lib/python3.10/site-packages (from tensorflow->canaro) (2.4.0)\n",
      "Requirement already satisfied: google-pasta>=0.1.1 in /home/sergei/.local/lib/python3.10/site-packages (from tensorflow->canaro) (0.2.0)\n",
      "Requirement already satisfied: tensorflow-estimator<2.16,>=2.15.0 in /home/sergei/.local/lib/python3.10/site-packages (from tensorflow->canaro) (2.15.0)\n",
      "Requirement already satisfied: setuptools in /usr/lib/python3/dist-packages (from tensorflow->canaro) (59.6.0)\n",
      "Requirement already satisfied: gast!=0.5.0,!=0.5.1,!=0.5.2,>=0.2.1 in /home/sergei/.local/lib/python3.10/site-packages (from tensorflow->canaro) (0.5.4)\n",
      "Requirement already satisfied: h5py>=2.9.0 in /home/sergei/.local/lib/python3.10/site-packages (from tensorflow->canaro) (3.10.0)\n",
      "Requirement already satisfied: libclang>=13.0.0 in /home/sergei/.local/lib/python3.10/site-packages (from tensorflow->canaro) (16.0.6)\n",
      "Requirement already satisfied: packaging in /usr/lib/python3/dist-packages (from tensorflow->canaro) (21.3)\n",
      "Requirement already satisfied: astunparse>=1.6.0 in /home/sergei/.local/lib/python3.10/site-packages (from tensorflow->canaro) (1.6.3)\n",
      "Requirement already satisfied: six>=1.12.0 in /usr/lib/python3/dist-packages (from tensorflow->canaro) (1.16.0)\n",
      "Requirement already satisfied: keras<2.16,>=2.15.0 in /home/sergei/.local/lib/python3.10/site-packages (from tensorflow->canaro) (2.15.0)\n",
      "Requirement already satisfied: opt-einsum>=2.3.2 in /home/sergei/.local/lib/python3.10/site-packages (from tensorflow->canaro) (3.3.0)\n",
      "Requirement already satisfied: absl-py>=1.0.0 in /home/sergei/.local/lib/python3.10/site-packages (from tensorflow->canaro) (2.1.0)\n",
      "Requirement already satisfied: wrapt<1.15,>=1.11.0 in /home/sergei/.local/lib/python3.10/site-packages (from tensorflow->canaro) (1.14.1)\n",
      "Requirement already satisfied: tensorflow-io-gcs-filesystem>=0.23.1 in /home/sergei/.local/lib/python3.10/site-packages (from tensorflow->canaro) (0.36.0)\n",
      "Requirement already satisfied: ml-dtypes~=0.2.0 in /home/sergei/.local/lib/python3.10/site-packages (from tensorflow->canaro) (0.2.0)\n",
      "Requirement already satisfied: wheel<1.0,>=0.23.0 in /usr/lib/python3/dist-packages (from astunparse>=1.6.0->tensorflow->canaro) (0.37.1)\n",
      "Requirement already satisfied: google-auth-oauthlib<2,>=0.5 in /home/sergei/.local/lib/python3.10/site-packages (from tensorboard<2.16,>=2.15->tensorflow->canaro) (1.2.0)\n",
      "Requirement already satisfied: werkzeug>=1.0.1 in /home/sergei/.local/lib/python3.10/site-packages (from tensorboard<2.16,>=2.15->tensorflow->canaro) (3.0.1)\n",
      "Requirement already satisfied: requests<3,>=2.21.0 in /home/sergei/.local/lib/python3.10/site-packages (from tensorboard<2.16,>=2.15->tensorflow->canaro) (2.31.0)\n",
      "Requirement already satisfied: markdown>=2.6.8 in /home/sergei/.local/lib/python3.10/site-packages (from tensorboard<2.16,>=2.15->tensorflow->canaro) (3.5.2)\n",
      "Requirement already satisfied: tensorboard-data-server<0.8.0,>=0.7.0 in /home/sergei/.local/lib/python3.10/site-packages (from tensorboard<2.16,>=2.15->tensorflow->canaro) (0.7.2)\n",
      "Requirement already satisfied: google-auth<3,>=1.6.3 in /home/sergei/.local/lib/python3.10/site-packages (from tensorboard<2.16,>=2.15->tensorflow->canaro) (2.27.0)\n",
      "Requirement already satisfied: rsa<5,>=3.1.4 in /home/sergei/.local/lib/python3.10/site-packages (from google-auth<3,>=1.6.3->tensorboard<2.16,>=2.15->tensorflow->canaro) (4.9)\n",
      "Requirement already satisfied: pyasn1-modules>=0.2.1 in /home/sergei/.local/lib/python3.10/site-packages (from google-auth<3,>=1.6.3->tensorboard<2.16,>=2.15->tensorflow->canaro) (0.3.0)\n",
      "Requirement already satisfied: cachetools<6.0,>=2.0.0 in /home/sergei/.local/lib/python3.10/site-packages (from google-auth<3,>=1.6.3->tensorboard<2.16,>=2.15->tensorflow->canaro) (5.3.2)\n",
      "Requirement already satisfied: requests-oauthlib>=0.7.0 in /home/sergei/.local/lib/python3.10/site-packages (from google-auth-oauthlib<2,>=0.5->tensorboard<2.16,>=2.15->tensorflow->canaro) (1.3.1)\n",
      "Requirement already satisfied: charset-normalizer<4,>=2 in /home/sergei/.local/lib/python3.10/site-packages (from requests<3,>=2.21.0->tensorboard<2.16,>=2.15->tensorflow->canaro) (3.3.2)\n",
      "Requirement already satisfied: idna<4,>=2.5 in /usr/lib/python3/dist-packages (from requests<3,>=2.21.0->tensorboard<2.16,>=2.15->tensorflow->canaro) (3.3)\n",
      "Requirement already satisfied: certifi>=2017.4.17 in /usr/lib/python3/dist-packages (from requests<3,>=2.21.0->tensorboard<2.16,>=2.15->tensorflow->canaro) (2020.6.20)\n",
      "Requirement already satisfied: urllib3<3,>=1.21.1 in /usr/lib/python3/dist-packages (from requests<3,>=2.21.0->tensorboard<2.16,>=2.15->tensorflow->canaro) (1.26.5)\n",
      "Requirement already satisfied: MarkupSafe>=2.1.1 in /home/sergei/.local/lib/python3.10/site-packages (from werkzeug>=1.0.1->tensorboard<2.16,>=2.15->tensorflow->canaro) (2.1.5)\n",
      "Requirement already satisfied: pyasn1<0.6.0,>=0.4.6 in /home/sergei/.local/lib/python3.10/site-packages (from pyasn1-modules>=0.2.1->google-auth<3,>=1.6.3->tensorboard<2.16,>=2.15->tensorflow->canaro) (0.5.1)\n",
      "Requirement already satisfied: oauthlib>=3.0.0 in /usr/lib/python3/dist-packages (from requests-oauthlib>=0.7.0->google-auth-oauthlib<2,>=0.5->tensorboard<2.16,>=2.15->tensorflow->canaro) (3.2.0)\n",
      "Installing collected packages: canaro\n",
      "Successfully installed canaro-1.1.0\n"
     ]
    }
   ],
   "source": [
    "!pip install caer canaro"
   ]
  },
  {
   "cell_type": "code",
   "execution_count": 1,
   "id": "0bfe9aaa-9941-4c3c-ab09-e21ae3daa56e",
   "metadata": {},
   "outputs": [
    {
     "name": "stderr",
     "output_type": "stream",
     "text": [
      "2024-02-10 15:01:29.988104: E external/local_xla/xla/stream_executor/cuda/cuda_dnn.cc:9261] Unable to register cuDNN factory: Attempting to register factory for plugin cuDNN when one has already been registered\n",
      "2024-02-10 15:01:29.988158: E external/local_xla/xla/stream_executor/cuda/cuda_fft.cc:607] Unable to register cuFFT factory: Attempting to register factory for plugin cuFFT when one has already been registered\n",
      "2024-02-10 15:01:30.017396: E external/local_xla/xla/stream_executor/cuda/cuda_blas.cc:1515] Unable to register cuBLAS factory: Attempting to register factory for plugin cuBLAS when one has already been registered\n",
      "/usr/lib/python3/dist-packages/scipy/__init__.py:146: UserWarning: A NumPy version >=1.17.3 and <1.25.0 is required for this version of SciPy (detected version 1.26.2\n",
      "  warnings.warn(f\"A NumPy version >={np_minversion} and <{np_maxversion}\"\n"
     ]
    }
   ],
   "source": [
    "import matplotlib.pyplot as plt\n",
    "import os\n",
    "import gc\n",
    "\n",
    "import caer\n",
    "import canaro\n",
    "import pandas as pd\n",
    "import numpy as np\n",
    "import tensorflow as tf\n",
    "from sklearn.preprocessing import StandardScaler\n",
    "from tensorflow.keras.models import Sequential\n",
    "from tensorflow.keras.layers import Conv2D, MaxPooling2D, Flatten, Dense\n",
    "from tensorflow.keras.callbacks import LearningRateScheduler\n",
    "from tensorflow.keras.utils import to_categorical\n",
    "from tensorflow.keras.preprocessing.image import ImageDataGenerator\n",
    "from tensorflow.keras.optimizers import SGD"
   ]
  },
  {
   "cell_type": "code",
   "execution_count": 2,
   "id": "1be76c78-893e-4e1d-8c30-54d5560413de",
   "metadata": {},
   "outputs": [],
   "source": [
    "img_size=(180,180)\n",
    "channels = 1\n",
    "char_path= 'Data/simpsons_dataset'"
   ]
  },
  {
   "cell_type": "code",
   "execution_count": 3,
   "id": "ea0c9470-4fec-44f7-acf6-8677a0f2f783",
   "metadata": {},
   "outputs": [
    {
     "data": {
      "text/plain": [
       "[('homer_simpson', 2246),\n",
       " ('ned_flanders', 1454),\n",
       " ('moe_szyslak', 1452),\n",
       " ('lisa_simpson', 1354),\n",
       " ('bart_simpson', 1342),\n",
       " ('marge_simpson', 1291),\n",
       " ('krusty_the_clown', 1206),\n",
       " ('principal_skinner', 1194),\n",
       " ('charles_montgomery_burns', 1193),\n",
       " ('milhouse_van_houten', 1079),\n",
       " ('chief_wiggum', 986),\n",
       " ('abraham_grampa_simpson', 913),\n",
       " ('sideshow_bob', 877),\n",
       " ('apu_nahasapeemapetilon', 623),\n",
       " ('kent_brockman', 498),\n",
       " ('comic_book_guy', 469),\n",
       " ('edna_krabappel', 457),\n",
       " ('nelson_muntz', 358),\n",
       " ('lenny_leonard', 310),\n",
       " ('mayor_quimby', 246),\n",
       " ('waylon_smithers', 181),\n",
       " ('maggie_simpson', 128),\n",
       " ('groundskeeper_willie', 121),\n",
       " ('barney_gumble', 106),\n",
       " ('selma_bouvier', 103),\n",
       " ('carl_carlson', 98),\n",
       " ('ralph_wiggum', 89),\n",
       " ('patty_bouvier', 72),\n",
       " ('martin_prince', 71),\n",
       " ('professor_john_frink', 65),\n",
       " ('snake_jailbird', 55),\n",
       " ('cletus_spuckler', 47),\n",
       " ('rainier_wolfcastle', 45),\n",
       " ('simpsons_dataset', 42),\n",
       " ('agnes_skinner', 42),\n",
       " ('sideshow_mel', 40),\n",
       " ('otto_mann', 32),\n",
       " ('gil', 27),\n",
       " ('fat_tony', 27),\n",
       " ('miss_hoover', 17),\n",
       " ('disco_stu', 8),\n",
       " ('troy_mcclure', 8),\n",
       " ('lionel_hutz', 3)]"
      ]
     },
     "execution_count": 3,
     "metadata": {},
     "output_type": "execute_result"
    }
   ],
   "source": [
    "char_dict={}\n",
    "for char in os.listdir(char_path):\n",
    "    char_dict[char]=len(os.listdir(os.path.join(char_path,char)))\n",
    "char_dict = caer.sort_dict(char_dict, descending=True)\n",
    "char_dict"
   ]
  },
  {
   "cell_type": "code",
   "execution_count": 4,
   "id": "c544d410-9768-4db8-afbf-c6aa2090c1ff",
   "metadata": {},
   "outputs": [
    {
     "data": {
      "text/plain": [
       "['homer_simpson',\n",
       " 'ned_flanders',\n",
       " 'moe_szyslak',\n",
       " 'lisa_simpson',\n",
       " 'bart_simpson',\n",
       " 'marge_simpson',\n",
       " 'krusty_the_clown',\n",
       " 'principal_skinner',\n",
       " 'charles_montgomery_burns',\n",
       " 'milhouse_van_houten']"
      ]
     },
     "execution_count": 4,
     "metadata": {},
     "output_type": "execute_result"
    }
   ],
   "source": [
    "chars = []\n",
    "cnt=0\n",
    "for i in char_dict:\n",
    "    chars.append(i[0])\n",
    "    cnt+=1\n",
    "    if cnt>=10:\n",
    "        break\n",
    "chars"
   ]
  },
  {
   "cell_type": "code",
   "execution_count": 14,
   "id": "3f977c9c-e1b9-4c1f-8a0d-e5600e18c752",
   "metadata": {},
   "outputs": [
    {
     "name": "stdout",
     "output_type": "stream",
     "text": [
      "[INFO] Could not find a file to load from. Generating the training data\n",
      "----------------------------------------------\n",
      "[INFO] At 1000 files\n",
      "[INFO] At 2000 files\n",
      "[INFO] 2246 files found in 0.0067708492279052734s\n",
      "[INFO] At 1000 files\n",
      "[INFO] 1454 files found in 0.0036559104919433594s\n",
      "[INFO] At 1000 files\n",
      "[INFO] 1452 files found in 0.0038003921508789062s\n",
      "[INFO] At 1000 files\n",
      "[INFO] 1354 files found in 0.0031511783599853516s\n",
      "[INFO] At 1000 files\n",
      "[INFO] 1342 files found in 0.0033638477325439453s\n",
      "[INFO] At 1000 files\n",
      "[INFO] 1291 files found in 0.005867719650268555s\n",
      "[INFO] At 1000 files\n",
      "[INFO] 1206 files found in 0.002952098846435547s\n",
      "[INFO] At 1000 files\n",
      "[INFO] 1194 files found in 0.0028493404388427734s\n",
      "[INFO] At 1000 files\n",
      "[INFO] 1193 files found in 0.0032083988189697266s\n",
      "[INFO] At 1000 files\n",
      "[INFO] 1079 files found in 0.0026788711547851562s\n",
      "----------------------------------------------\n",
      "[INFO] 13811 files preprocessed! Took 0m 25s\n"
     ]
    }
   ],
   "source": [
    "#Создание тренировочных данных\n",
    "train=caer.preprocess_from_dir(char_path, chars, channels=channels, IMG_SIZE=img_size, isShuffle=True)"
   ]
  },
  {
   "cell_type": "code",
   "execution_count": 6,
   "id": "ce07448d-0713-4e1b-ba3c-3b05fc4602fd",
   "metadata": {},
   "outputs": [],
   "source": [
    "featureSet, labels = caer.sep_train(train, IMG_SIZE=img_size)"
   ]
  },
  {
   "cell_type": "code",
   "execution_count": 7,
   "id": "209caacc-847c-43ee-a0f0-4704aaf48bf5",
   "metadata": {},
   "outputs": [],
   "source": [
    "featureSet = caer.normalize(featureSet)\n",
    "labels = to_categorical(labels, len(chars))"
   ]
  },
  {
   "cell_type": "code",
   "execution_count": 13,
   "id": "06860787-710e-4ffc-bd02-cbb6f5f8ef97",
   "metadata": {},
   "outputs": [
    {
     "ename": "NameError",
     "evalue": "name 'featureSet' is not defined",
     "output_type": "error",
     "traceback": [
      "\u001b[0;31m---------------------------------------------------------------------------\u001b[0m",
      "\u001b[0;31mNameError\u001b[0m                                 Traceback (most recent call last)",
      "Cell \u001b[0;32mIn[13], line 1\u001b[0m\n\u001b[0;32m----> 1\u001b[0m x_train, x_val, y_train, y_val \u001b[38;5;241m=\u001b[39m caer\u001b[38;5;241m.\u001b[39mtrain_val_split(\u001b[43mfeatureSet\u001b[49m, labels, val_ratio\u001b[38;5;241m=\u001b[39m\u001b[38;5;241m2\u001b[39m)\n\u001b[1;32m      2\u001b[0m x_train\u001b[38;5;241m.\u001b[39mshape()\n\u001b[1;32m      3\u001b[0m y_train\u001b[38;5;241m.\u001b[39mshape()\n",
      "\u001b[0;31mNameError\u001b[0m: name 'featureSet' is not defined"
     ]
    }
   ],
   "source": [
    "x_train, x_val, y_train, y_val = caer.train_val_split(featureSet, labels, val_ratio=2)\n",
    "x_train.shape()\n",
    "y_train.shape()"
   ]
  },
  {
   "cell_type": "code",
   "execution_count": 9,
   "id": "da991373-f22b-4eb1-ab8c-cb46757560c5",
   "metadata": {},
   "outputs": [
    {
     "name": "stdout",
     "output_type": "stream",
     "text": [
      "Model: \"sequential\"\n",
      "_________________________________________________________________\n",
      " Layer (type)                Output Shape              Param #   \n",
      "=================================================================\n",
      " conv2d (Conv2D)             (None, 178, 178, 32)      320       \n",
      "                                                                 \n",
      " max_pooling2d (MaxPooling2  (None, 89, 89, 32)        0         \n",
      " D)                                                              \n",
      "                                                                 \n",
      " conv2d_1 (Conv2D)           (None, 87, 87, 64)        18496     \n",
      "                                                                 \n",
      " max_pooling2d_1 (MaxPoolin  (None, 43, 43, 64)        0         \n",
      " g2D)                                                            \n",
      "                                                                 \n",
      " flatten (Flatten)           (None, 118336)            0         \n",
      "                                                                 \n",
      " dense (Dense)               (None, 64)                7573568   \n",
      "                                                                 \n",
      " dense_1 (Dense)             (None, 10)                650       \n",
      "                                                                 \n",
      "=================================================================\n",
      "Total params: 7593034 (28.97 MB)\n",
      "Trainable params: 7593034 (28.97 MB)\n",
      "Non-trainable params: 0 (0.00 Byte)\n",
      "_________________________________________________________________\n"
     ]
    }
   ],
   "source": [
    "# Создаем модель нейронной сети\n",
    "model = Sequential()\n",
    "\n",
    "# Добавляем сверточный слой\n",
    "model.add(Conv2D(32, (3, 3), activation='relu', input_shape=(180, 180, 1)))\n",
    "\n",
    "# Добавляем слой подвыборки\n",
    "model.add(MaxPooling2D(pool_size=(2, 2)))\n",
    "\n",
    "# Добавляем второй сверточный слой\n",
    "model.add(Conv2D(64, (3, 3), activation='relu'))\n",
    "\n",
    "# Добавляем второй слой подвыборки\n",
    "model.add(MaxPooling2D(pool_size=(2, 2)))\n",
    "\n",
    "# Преобразуем двумерные данные в одномерные\n",
    "model.add(Flatten())\n",
    "\n",
    "# Добавляем полносвязный слой\n",
    "model.add(Dense(64, activation='relu'))\n",
    "\n",
    "# Добавляем выходной слой\n",
    "model.add(Dense(10, activation='softmax'))\n",
    "\n",
    "# Компилируем модель\n",
    "model.compile(optimizer='adam', loss='categorical_crossentropy', metrics=['accuracy'])\n",
    "model.summary()"
   ]
  },
  {
   "cell_type": "code",
   "execution_count": 10,
   "id": "7373550a-c3aa-472d-8eee-d5fd10c21d36",
   "metadata": {},
   "outputs": [
    {
     "data": {
      "text/plain": [
       "333"
      ]
     },
     "execution_count": 10,
     "metadata": {},
     "output_type": "execute_result"
    }
   ],
   "source": [
    "del train\n",
    "del featureSet\n",
    "del labels\n",
    "gc.collect()"
   ]
  },
  {
   "cell_type": "code",
   "execution_count": 11,
   "id": "f9d5332f-397c-4e4e-a44a-aabca5bfcc51",
   "metadata": {},
   "outputs": [],
   "source": [
    "BATCH_SIZE=10\n",
    "EPOCHS=25"
   ]
  },
  {
   "cell_type": "code",
   "execution_count": 12,
   "id": "7213a815-d145-4c5c-af1e-bbbae9896b06",
   "metadata": {},
   "outputs": [
    {
     "ename": "ValueError",
     "evalue": "('Input data in `NumpyArrayIterator` should have rank 4. You passed an array with shape', (0,))",
     "output_type": "error",
     "traceback": [
      "\u001b[0;31m---------------------------------------------------------------------------\u001b[0m",
      "\u001b[0;31mValueError\u001b[0m                                Traceback (most recent call last)",
      "Cell \u001b[0;32mIn[12], line 3\u001b[0m\n\u001b[1;32m      1\u001b[0m datagen \u001b[38;5;241m=\u001b[39m ImageDataGenerator(rotation_range\u001b[38;5;241m=\u001b[39m\u001b[38;5;241m30\u001b[39m, width_shift_range\u001b[38;5;241m=\u001b[39m\u001b[38;5;241m0.1\u001b[39m, height_shift_range\u001b[38;5;241m=\u001b[39m\u001b[38;5;241m0.1\u001b[39m\n\u001b[1;32m      2\u001b[0m                              , zoom_range\u001b[38;5;241m=\u001b[39m\u001b[38;5;241m0.2\u001b[39m)\n\u001b[0;32m----> 3\u001b[0m train_gen \u001b[38;5;241m=\u001b[39m \u001b[43mdatagen\u001b[49m\u001b[38;5;241;43m.\u001b[39;49m\u001b[43mflow\u001b[49m\u001b[43m(\u001b[49m\u001b[43mx_train\u001b[49m\u001b[43m,\u001b[49m\u001b[43m \u001b[49m\u001b[43my_train\u001b[49m\u001b[43m,\u001b[49m\u001b[43m \u001b[49m\u001b[43mbatch_size\u001b[49m\u001b[38;5;241;43m=\u001b[39;49m\u001b[43mBATCH_SIZE\u001b[49m\u001b[43m)\u001b[49m\n",
      "File \u001b[0;32m~/.local/lib/python3.10/site-packages/keras/src/preprocessing/image.py:1545\u001b[0m, in \u001b[0;36mImageDataGenerator.flow\u001b[0;34m(self, x, y, batch_size, shuffle, sample_weight, seed, save_to_dir, save_prefix, save_format, ignore_class_split, subset)\u001b[0m\n\u001b[1;32m   1486\u001b[0m \u001b[38;5;28;01mdef\u001b[39;00m \u001b[38;5;21mflow\u001b[39m(\n\u001b[1;32m   1487\u001b[0m     \u001b[38;5;28mself\u001b[39m,\n\u001b[1;32m   1488\u001b[0m     x,\n\u001b[0;32m   (...)\u001b[0m\n\u001b[1;32m   1498\u001b[0m     subset\u001b[38;5;241m=\u001b[39m\u001b[38;5;28;01mNone\u001b[39;00m,\n\u001b[1;32m   1499\u001b[0m ):\n\u001b[1;32m   1500\u001b[0m \u001b[38;5;250m    \u001b[39m\u001b[38;5;124;03m\"\"\"Takes data & label arrays, generates batches of augmented data.\u001b[39;00m\n\u001b[1;32m   1501\u001b[0m \n\u001b[1;32m   1502\u001b[0m \u001b[38;5;124;03m    Args:\u001b[39;00m\n\u001b[0;32m   (...)\u001b[0m\n\u001b[1;32m   1543\u001b[0m \n\u001b[1;32m   1544\u001b[0m \u001b[38;5;124;03m    \"\"\"\u001b[39;00m\n\u001b[0;32m-> 1545\u001b[0m     \u001b[38;5;28;01mreturn\u001b[39;00m \u001b[43mNumpyArrayIterator\u001b[49m\u001b[43m(\u001b[49m\n\u001b[1;32m   1546\u001b[0m \u001b[43m        \u001b[49m\u001b[43mx\u001b[49m\u001b[43m,\u001b[49m\n\u001b[1;32m   1547\u001b[0m \u001b[43m        \u001b[49m\u001b[43my\u001b[49m\u001b[43m,\u001b[49m\n\u001b[1;32m   1548\u001b[0m \u001b[43m        \u001b[49m\u001b[38;5;28;43mself\u001b[39;49m\u001b[43m,\u001b[49m\n\u001b[1;32m   1549\u001b[0m \u001b[43m        \u001b[49m\u001b[43mbatch_size\u001b[49m\u001b[38;5;241;43m=\u001b[39;49m\u001b[43mbatch_size\u001b[49m\u001b[43m,\u001b[49m\n\u001b[1;32m   1550\u001b[0m \u001b[43m        \u001b[49m\u001b[43mshuffle\u001b[49m\u001b[38;5;241;43m=\u001b[39;49m\u001b[43mshuffle\u001b[49m\u001b[43m,\u001b[49m\n\u001b[1;32m   1551\u001b[0m \u001b[43m        \u001b[49m\u001b[43msample_weight\u001b[49m\u001b[38;5;241;43m=\u001b[39;49m\u001b[43msample_weight\u001b[49m\u001b[43m,\u001b[49m\n\u001b[1;32m   1552\u001b[0m \u001b[43m        \u001b[49m\u001b[43mseed\u001b[49m\u001b[38;5;241;43m=\u001b[39;49m\u001b[43mseed\u001b[49m\u001b[43m,\u001b[49m\n\u001b[1;32m   1553\u001b[0m \u001b[43m        \u001b[49m\u001b[43mdata_format\u001b[49m\u001b[38;5;241;43m=\u001b[39;49m\u001b[38;5;28;43mself\u001b[39;49m\u001b[38;5;241;43m.\u001b[39;49m\u001b[43mdata_format\u001b[49m\u001b[43m,\u001b[49m\n\u001b[1;32m   1554\u001b[0m \u001b[43m        \u001b[49m\u001b[43msave_to_dir\u001b[49m\u001b[38;5;241;43m=\u001b[39;49m\u001b[43msave_to_dir\u001b[49m\u001b[43m,\u001b[49m\n\u001b[1;32m   1555\u001b[0m \u001b[43m        \u001b[49m\u001b[43msave_prefix\u001b[49m\u001b[38;5;241;43m=\u001b[39;49m\u001b[43msave_prefix\u001b[49m\u001b[43m,\u001b[49m\n\u001b[1;32m   1556\u001b[0m \u001b[43m        \u001b[49m\u001b[43msave_format\u001b[49m\u001b[38;5;241;43m=\u001b[39;49m\u001b[43msave_format\u001b[49m\u001b[43m,\u001b[49m\n\u001b[1;32m   1557\u001b[0m \u001b[43m        \u001b[49m\u001b[43mignore_class_split\u001b[49m\u001b[38;5;241;43m=\u001b[39;49m\u001b[43mignore_class_split\u001b[49m\u001b[43m,\u001b[49m\n\u001b[1;32m   1558\u001b[0m \u001b[43m        \u001b[49m\u001b[43msubset\u001b[49m\u001b[38;5;241;43m=\u001b[39;49m\u001b[43msubset\u001b[49m\u001b[43m,\u001b[49m\n\u001b[1;32m   1559\u001b[0m \u001b[43m        \u001b[49m\u001b[43mdtype\u001b[49m\u001b[38;5;241;43m=\u001b[39;49m\u001b[38;5;28;43mself\u001b[39;49m\u001b[38;5;241;43m.\u001b[39;49m\u001b[43mdtype\u001b[49m\u001b[43m,\u001b[49m\n\u001b[1;32m   1560\u001b[0m \u001b[43m    \u001b[49m\u001b[43m)\u001b[49m\n",
      "File \u001b[0;32m~/.local/lib/python3.10/site-packages/keras/src/preprocessing/image.py:758\u001b[0m, in \u001b[0;36mNumpyArrayIterator.__init__\u001b[0;34m(self, x, y, image_data_generator, batch_size, shuffle, sample_weight, seed, data_format, save_to_dir, save_prefix, save_format, subset, ignore_class_split, dtype)\u001b[0m\n\u001b[1;32m    756\u001b[0m \u001b[38;5;28mself\u001b[39m\u001b[38;5;241m.\u001b[39mx_misc \u001b[38;5;241m=\u001b[39m x_misc\n\u001b[1;32m    757\u001b[0m \u001b[38;5;28;01mif\u001b[39;00m \u001b[38;5;28mself\u001b[39m\u001b[38;5;241m.\u001b[39mx\u001b[38;5;241m.\u001b[39mndim \u001b[38;5;241m!=\u001b[39m \u001b[38;5;241m4\u001b[39m:\n\u001b[0;32m--> 758\u001b[0m     \u001b[38;5;28;01mraise\u001b[39;00m \u001b[38;5;167;01mValueError\u001b[39;00m(\n\u001b[1;32m    759\u001b[0m         \u001b[38;5;124m\"\u001b[39m\u001b[38;5;124mInput data in `NumpyArrayIterator` \u001b[39m\u001b[38;5;124m\"\u001b[39m\n\u001b[1;32m    760\u001b[0m         \u001b[38;5;124m\"\u001b[39m\u001b[38;5;124mshould have rank 4. You passed an array \u001b[39m\u001b[38;5;124m\"\u001b[39m\n\u001b[1;32m    761\u001b[0m         \u001b[38;5;124m\"\u001b[39m\u001b[38;5;124mwith shape\u001b[39m\u001b[38;5;124m\"\u001b[39m,\n\u001b[1;32m    762\u001b[0m         \u001b[38;5;28mself\u001b[39m\u001b[38;5;241m.\u001b[39mx\u001b[38;5;241m.\u001b[39mshape,\n\u001b[1;32m    763\u001b[0m     )\n\u001b[1;32m    764\u001b[0m channels_axis \u001b[38;5;241m=\u001b[39m \u001b[38;5;241m3\u001b[39m \u001b[38;5;28;01mif\u001b[39;00m data_format \u001b[38;5;241m==\u001b[39m \u001b[38;5;124m\"\u001b[39m\u001b[38;5;124mchannels_last\u001b[39m\u001b[38;5;124m\"\u001b[39m \u001b[38;5;28;01melse\u001b[39;00m \u001b[38;5;241m1\u001b[39m\n\u001b[1;32m    765\u001b[0m \u001b[38;5;28;01mif\u001b[39;00m \u001b[38;5;28mself\u001b[39m\u001b[38;5;241m.\u001b[39mx\u001b[38;5;241m.\u001b[39mshape[channels_axis] \u001b[38;5;129;01mnot\u001b[39;00m \u001b[38;5;129;01min\u001b[39;00m {\u001b[38;5;241m1\u001b[39m, \u001b[38;5;241m3\u001b[39m, \u001b[38;5;241m4\u001b[39m}:\n",
      "\u001b[0;31mValueError\u001b[0m: ('Input data in `NumpyArrayIterator` should have rank 4. You passed an array with shape', (0,))"
     ]
    }
   ],
   "source": [
    "datagen = ImageDataGenerator(rotation_range=30, width_shift_range=0.1, height_shift_range=0.1\n",
    "                             , zoom_range=0.2)\n",
    "train_gen = datagen.flow(x_train, y_train, batch_size=BATCH_SIZE)"
   ]
  },
  {
   "cell_type": "code",
   "execution_count": null,
   "id": "5a570b67-fa10-4ce2-98cf-e4bc76afe331",
   "metadata": {},
   "outputs": [],
   "source": [
    "callbacks_list=[LearningRateScheduler(canaro.lr_schedule)]"
   ]
  },
  {
   "cell_type": "code",
   "execution_count": null,
   "id": "7421fa01-9e0a-4e1c-935d-36e871370cd4",
   "metadata": {},
   "outputs": [],
   "source": [
    "# optimizer = tf.keras.optimizers.legacy.SGD(learning_rate=0.00001, decay=1e-7, momentum=0.7, nesterov=True)"
   ]
  },
  {
   "cell_type": "code",
   "execution_count": null,
   "id": "a88c5a33-442f-430a-9b94-54bc7b769dbf",
   "metadata": {},
   "outputs": [],
   "source": [
    "training=model.fit(train_gen, steps_per_epoch=len(x_train)//BATH_SIZE, epochs=EPOCHS,\n",
    "                   validation_data=(x_val, y_val), validation_steps=len(y_val)//BATH_SIZE,\n",
    "                   callbacks=callbacks_list)"
   ]
  },
  {
   "cell_type": "code",
   "execution_count": 20,
   "id": "0e29b1e7-953c-45f1-859b-71e3f0bd0d17",
   "metadata": {},
   "outputs": [
    {
     "ename": "NameError",
     "evalue": "name 'x_val' is not defined",
     "output_type": "error",
     "traceback": [
      "\u001b[0;31m---------------------------------------------------------------------------\u001b[0m",
      "\u001b[0;31mNameError\u001b[0m                                 Traceback (most recent call last)",
      "Cell \u001b[0;32mIn[20], line 2\u001b[0m\n\u001b[1;32m      1\u001b[0m val_datagen \u001b[38;5;241m=\u001b[39m canaro\u001b[38;5;241m.\u001b[39mgenerators\u001b[38;5;241m.\u001b[39mimageDataGenerator()\n\u001b[0;32m----> 2\u001b[0m val_gen \u001b[38;5;241m=\u001b[39m val_datagen\u001b[38;5;241m.\u001b[39mflow(\u001b[43mx_val\u001b[49m, y_val, bath_size\u001b[38;5;241m=\u001b[39mBATH_SIZE)\n\u001b[1;32m      3\u001b[0m model\u001b[38;5;241m.\u001b[39mevaluate(val_gen)\n",
      "\u001b[0;31mNameError\u001b[0m: name 'x_val' is not defined"
     ]
    }
   ],
   "source": [
    "val_datagen = canaro.generators.imageDataGenerator()\n",
    "val_gen = val_datagen.flow(x_val, y_val, bath_size=BATH_SIZE)\n",
    "model.evaluate(val_gen)"
   ]
  },
  {
   "cell_type": "code",
   "execution_count": null,
   "id": "d2c7d5e2-43c5-4461-b506-49bce628af91",
   "metadata": {},
   "outputs": [],
   "source": []
  }
 ],
 "metadata": {
  "kernelspec": {
   "display_name": "Python 3 (ipykernel)",
   "language": "python",
   "name": "python3"
  },
  "language_info": {
   "codemirror_mode": {
    "name": "ipython",
    "version": 3
   },
   "file_extension": ".py",
   "mimetype": "text/x-python",
   "name": "python",
   "nbconvert_exporter": "python",
   "pygments_lexer": "ipython3",
   "version": "3.10.6"
  }
 },
 "nbformat": 4,
 "nbformat_minor": 5
}
